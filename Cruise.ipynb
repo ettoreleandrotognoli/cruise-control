{
 "cells": [
  {
   "cell_type": "markdown",
   "metadata": {},
   "source": [
    "# Validação"
   ]
  },
  {
   "cell_type": "code",
   "execution_count": 192,
   "metadata": {},
   "outputs": [],
   "source": [
    "%matplotlib inline\n",
    "import matplotlib.pyplot as plt\n",
    "import math\n",
    "import numpy as np\n"
   ]
  },
  {
   "cell_type": "code",
   "execution_count": 210,
   "metadata": {},
   "outputs": [],
   "source": [
    "def as_radian(np_array):\n",
    "    return math.atan2(np_array[1], np_array[0])\n",
    "\n",
    "def near_radian(radian):\n",
    "    if abs(radian) <= math.pi:\n",
    "        return radian\n",
    "    if radian > 0:\n",
    "        return radian - 2 * math.pi\n",
    "    else:\n",
    "        return radian + 2 * math.pi"
   ]
  },
  {
   "cell_type": "code",
   "execution_count": 223,
   "metadata": {},
   "outputs": [
    {
     "name": "stdout",
     "output_type": "stream",
     "text": [
      "-0.7853981633974483 -45.0\n"
     ]
    },
    {
     "data": {
      "text/plain": [
       "(19.8, 24.2, 15.8, 20.2)"
      ]
     },
     "execution_count": 223,
     "metadata": {},
     "output_type": "execute_result"
    },
    {
     "data": {
      "image/png": "[encoded data removed]",
      "text/plain": [
       "<Figure size 432x288 with 1 Axes>"
      ]
     },
     "metadata": {
      "needs_background": "light"
     },
     "output_type": "display_data"
    }
   ],
   "source": [
    "desired_point = np.array([ 20 , 20])\n",
    "desired_orientation = np.array([ -1 , 0])\n",
    "current_point = np.array([ 24 , 16])\n",
    "#current_orientation = np.array([-1, -1])\n",
    "#current_orientation = np.array([1, 1])\n",
    "#current_orientation = np.array([0, 1])\n",
    "current_orientation = np.array([-1, 0])\n",
    "#current_orientation = np.array([1, 0])\n",
    "#current_orientation = np.array([1, -1])\n",
    "\n",
    "\n",
    "plt.plot(*desired_point, \"ob\")\n",
    "plt.quiver(*desired_point,*desired_orientation, color='b')\n",
    "plt.plot(*current_point, \"ok\")\n",
    "plt.quiver(*current_point,*current_orientation, color='k')\n",
    "\n",
    "error_vector = desired_point - current_point\n",
    "fix_force = math.sqrt(sum(error_vector**2))\n",
    "fix_angle = error_vector / max(error_vector)\n",
    "\n",
    "\n",
    "plt.quiver(*current_point, *fix_angle, color='g')\n",
    "\n",
    "angle_error = near_radian(as_radian(fix_angle) - as_radian(current_orientation))\n",
    "\n",
    "\n",
    "print(angle_error, angle_error * 180. / math.pi)\n",
    "plt.axis('equal')\n"
   ]
  }
 ],
 "metadata": {
  "kernelspec": {
   "display_name": "Python 3",
   "language": "python",
   "name": "python3"
  },
  "language_info": {
   "codemirror_mode": {
    "name": "ipython",
    "version": 3
   },
   "file_extension": ".py",
   "mimetype": "text/x-python",
   "name": "python",
   "nbconvert_exporter": "python",
   "pygments_lexer": "ipython3",
   "version": "3.7.3"
  }
 },
 "nbformat": 4,
 "nbformat_minor": 2
}
