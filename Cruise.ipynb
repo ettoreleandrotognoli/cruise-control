{
 "cells": [
  {
   "cell_type": "markdown",
   "metadata": {},
   "source": [
    "# Validação"
   ]
  },
  {
   "cell_type": "code",
   "execution_count": 1,
   "metadata": {},
   "outputs": [],
   "source": [
    "%matplotlib inline\n",
    "import matplotlib.pyplot as plt\n",
    "import math\n",
    "import numpy as np\n"
   ]
  },
  {
   "cell_type": "code",
   "execution_count": 2,
   "metadata": {},
   "outputs": [],
   "source": [
    "def as_radian(np_array):\n",
    "    return math.atan2(np_array[1], np_array[0])\n",
    "\n",
    "def as_vector(radian):\n",
    "    return np.array([math.cos(radian), math.sin(radian)])\n",
    "\n",
    "def near_radian(radian):\n",
    "    if abs(radian) <= math.pi:\n",
    "        return radian\n",
    "    if radian > 0:\n",
    "        return radian - 2 * math.pi\n",
    "    else:\n",
    "        return radian + 2 * math.pi\n",
    "    \n",
    "def rotate(np_array, radian):\n",
    "    cos = math.cos(radian)\n",
    "    sin = math.sin(radian)\n",
    "    return np.array([cos * np_array[0] - sin * np_array[1], sin * np_array[0] + cos * np_array[1]])"
   ]
  },
  {
   "cell_type": "code",
   "execution_count": 3,
   "metadata": {},
   "outputs": [],
   "source": [
    "assert as_radian([0,1]) == math.pi / 2\n",
    "assert as_radian([1,0]) == 0\n",
    "assert as_radian([-1,0]) == math.pi\n",
    "assert as_radian([0,-1]) == - math.pi /2\n",
    "assert np.allclose(as_vector(math.pi/2), np.array([0,1]))\n",
    "assert np.allclose(as_vector(0), np.array([1,0]))\n",
    "assert np.allclose(as_vector(math.pi), np.array([-1,0]))\n",
    "assert np.allclose(as_vector(-math.pi/2), np.array([0,-1]))\n",
    "assert np.allclose(rotate(np.array([0,1]),math.pi/2), np.array([-1,0]))\n",
    "assert np.allclose(rotate(np.array([0,1]),-math.pi/2), np.array([1,0]))\n"
   ]
  },
  {
   "cell_type": "code",
   "execution_count": 4,
   "metadata": {},
   "outputs": [],
   "source": [
    "def two_perimeters_to_radian(left,right,distance):\n",
    "    if left == 0 or right == 0:\n",
    "        perimeter = left if right == 0 else right\n",
    "        radian = perimeter / distance\n",
    "        return radian if left == 0 else -radian\n",
    "    proportion = right/left\n",
    "    right_ray = ( proportion * distance ) / ( proportion - 1)\n",
    "    right_radian = right / right_ray\n",
    "    return right_radian"
   ]
  },
  {
   "cell_type": "code",
   "execution_count": 5,
   "metadata": {},
   "outputs": [],
   "source": [
    "assert math.isclose(two_perimeters_to_radian(math.pi / 2, math.pi *3 / 2, 2) * 180 / math.pi, 90)\n",
    "assert math.isclose(two_perimeters_to_radian(math.pi * 3 / 2, math.pi / 2, 2) * 180 / math.pi, -90)"
   ]
  },
  {
   "cell_type": "code",
   "execution_count": 88,
   "metadata": {},
   "outputs": [],
   "source": [
    "def two_perimeters_to_distance(left,right,distance):\n",
    "    if left == right:\n",
    "        return np.array([0, right])\n",
    "    if left ==0 or right == 0:\n",
    "        perimeter = left if left != 0 else right\n",
    "        radian = perimeter / distance\n",
    "        ray = distance / 2.\n",
    "        final_point = np.array([ math.cos(radian) * ray * ( 1 if right != 0 else  -1) , math.sin(radian) * ray])\n",
    "        start_point = np.array([ray if left  == 0 else -ray, 0])\n",
    "        return final_point - start_point;\n",
    "    proportion = right / left\n",
    "    right_ray = ( proportion * distance ) / ( proportion - 1)\n",
    "    radian = right/ right_ray\n",
    "    ray = right_ray - distance / 2\n",
    "    final_point = np.array([math.cos(radian) * ray , math.sin(radian) * ray])\n",
    "    start_point = np.array([ray, 0])\n",
    "    return final_point - start_point;"
   ]
  },
  {
   "cell_type": "code",
   "execution_count": 91,
   "metadata": {},
   "outputs": [],
   "source": [
    "assert np.alltrue(two_perimeters_to_distance(2,2,0) == np.array([0,2]))\n",
    "assert np.alltrue(two_perimeters_to_distance(2,2,2) == np.array([0,2]))\n",
    "assert np.allclose(two_perimeters_to_distance(math.pi / 2, math.pi * 3 / 2, 2),np.array([-2. ,2. ]))\n",
    "assert np.allclose(two_perimeters_to_distance(math.pi * 3 / 2, math.pi / 2, 2),np.array([2. ,2. ]))\n",
    "assert np.allclose(two_perimeters_to_distance(0, math.pi * 3 / 2, 3),np.array([-1.5 ,1.5 ]))\n",
    "assert np.allclose(two_perimeters_to_distance(math.pi * 3 / 2, 0, 3),np.array([1.5,1.5 ]))"
   ]
  },
  {
   "cell_type": "code",
   "execution_count": 10,
   "metadata": {},
   "outputs": [
    {
     "data": {
      "text/plain": [
       "(-0.25, 5.25, -0.25, 5.25)"
      ]
     },
     "execution_count": 10,
     "metadata": {},
     "output_type": "execute_result"
    },
    {
     "data": {
      "image/png": "[encoded data removed]",
      "text/plain": [
       "<Figure size 432x288 with 1 Axes>"
      ]
     },
     "metadata": {
      "needs_background": "light"
     },
     "output_type": "display_data"
    }
   ],
   "source": [
    "initial_orientation = np.array([0, -1])\n",
    "initial_position = np.array([5, 5])\n",
    "\n",
    "angular_movement = -math.pi/2\n",
    "movement = np.array([1.5,1.5])\n",
    "\n",
    "final_orientation = rotate(initial_orientation, angular_movement)\n",
    "final_position = initial_position + rotate(movement, as_radian(initial_orientation) -math.pi/2 )\n",
    "\n",
    "plt.plot(*initial_position, \"ob\")\n",
    "plt.quiver(*initial_position,*initial_orientation, color='b')\n",
    "\n",
    "plt.plot(*[0,0], \"ok\")\n",
    "plt.quiver(*[0,0],*movement, color='k')\n",
    "\n",
    "plt.plot(*[0,0], \"oy\")\n",
    "plt.quiver(*[0,0],*as_vector(angular_movement), color='y')\n",
    "\n",
    "\n",
    "plt.plot(*final_position, \"og\")\n",
    "plt.quiver(*final_position,*final_orientation, color='g')\n",
    "\n",
    "\n",
    "\n",
    "\n",
    "plt.axis('equal')"
   ]
  },
  {
   "cell_type": "code",
   "execution_count": 9,
   "metadata": {},
   "outputs": [
    {
     "name": "stdout",
     "output_type": "stream",
     "text": [
      "1.5707963267948966 90.0\n"
     ]
    },
    {
     "data": {
      "text/plain": [
       "(19.8, 24.2, 15.8, 20.2)"
      ]
     },
     "execution_count": 9,
     "metadata": {},
     "output_type": "execute_result"
    },
    {
     "data": {
      "image/png": "[encoded data removed]",
      "text/plain": [
       "<Figure size 432x288 with 1 Axes>"
      ]
     },
     "metadata": {
      "needs_background": "light"
     },
     "output_type": "display_data"
    }
   ],
   "source": [
    "desired_point = np.array([ 20 , 20])\n",
    "desired_orientation = np.array([ -1 , 0])\n",
    "current_point = np.array([ 24 , 16])\n",
    "#current_orientation = np.array([-1, -1])4\n",
    "current_orientation = np.array([1, 1])\n",
    "#current_orientation = np.array([0, 1])\n",
    "#current_orientation = np.array([-1, 0])\n",
    "#current_orientation = np.array([1, 0])\n",
    "#current_orientation = np.array([1, -1])\n",
    "\n",
    "\n",
    "plt.plot(*desired_point, \"ob\")\n",
    "plt.quiver(*desired_point,*desired_orientation, color='b')\n",
    "plt.plot(*current_point, \"ok\")\n",
    "plt.quiver(*current_point,*current_orientation, color='k')\n",
    "\n",
    "error_vector = desired_point - current_point\n",
    "fix_force = math.sqrt(sum(error_vector**2))\n",
    "fix_angle = error_vector / max(error_vector)\n",
    "\n",
    "\n",
    "plt.quiver(*current_point, *fix_angle, color='g')\n",
    "\n",
    "angle_error = near_radian(as_radian(fix_angle) - as_radian(current_orientation))\n",
    "\n",
    "\n",
    "print(angle_error, angle_error * 180. / math.pi)\n",
    "plt.axis('equal')\n"
   ]
  }
 ],
 "metadata": {
  "kernelspec": {
   "display_name": "Python 3",
   "language": "python",
   "name": "python3"
  },
  "language_info": {
   "codemirror_mode": {
    "name": "ipython",
    "version": 3
   },
   "file_extension": ".py",
   "mimetype": "text/x-python",
   "name": "python",
   "nbconvert_exporter": "python",
   "pygments_lexer": "ipython3",
   "version": "3.7.0b4"
  }
 },
 "nbformat": 4,
 "nbformat_minor": 2
}
